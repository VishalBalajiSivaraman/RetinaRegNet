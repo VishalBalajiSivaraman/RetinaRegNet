{
  "nbformat": 4,
  "nbformat_minor": 0,
  "metadata": {
    "colab": {
      "provenance": [],
      "gpuType": "T4"
    },
    "kernelspec": {
      "name": "python3",
      "display_name": "Python 3"
    },
    "language_info": {
      "name": "python"
    },
    "accelerator": "GPU"
  },
  "cells": [
    {
      "cell_type": "markdown",
      "source": [
        "## Running RetinaRegNet on Google Colab\n",
        "\n",
        "### This script provides a quick guide for running our Retinal Registration model, *RetinaRegNet*, on Google Colab, addressing Python version discrepancies.\n"
      ],
      "metadata": {
        "id": "ptjcqVU37jiA"
      }
    },
    {
      "cell_type": "code",
      "source": [
        "!wget -c https://repo.anaconda.com/miniconda/Miniconda3-latest-Linux-x86_64.sh # downloading miniconda\n",
        "!bash Miniconda3-latest-Linux-x86_64.sh -b -f -p /usr/local # installing minconda under the local folder"
      ],
      "metadata": {
        "id": "NMyX1Q-aZGf6"
      },
      "execution_count": null,
      "outputs": []
    },
    {
      "cell_type": "code",
      "source": [
        "!conda init bash # initializing conda using bash commands"
      ],
      "metadata": {
        "id": "p9NSthP5ZKbF"
      },
      "execution_count": null,
      "outputs": []
    },
    {
      "cell_type": "code",
      "source": [
        "!conda create --name my_env python=3.10.12 -y # creating a virtual enviroment with python version 3.10.12 using conda"
      ],
      "metadata": {
        "id": "6zMGwVM-ZcnP"
      },
      "execution_count": null,
      "outputs": []
    },
    {
      "cell_type": "code",
      "source": [
        "!conda info --envs # checking to see if the newly created conda environemnt is setup sucessfully"
      ],
      "metadata": {
        "id": "j0sL56tlZi6a"
      },
      "execution_count": null,
      "outputs": []
    },
    {
      "cell_type": "code",
      "source": [
        "!conda install -n my_env jupyter ipykernel -y # installing the jupyter and ipykernel pacakges in the new conda environment to avoid any run time errors during code execution , especially since the python script is generated form the original hupyter notebook"
      ],
      "metadata": {
        "collapsed": true,
        "id": "QVSuiTPrlB2a"
      },
      "execution_count": null,
      "outputs": []
    },
    {
      "cell_type": "code",
      "source": [
        "!source activate my_env # Activating the new conda environemnt"
      ],
      "metadata": {
        "id": "t1Uvfa2vZkZx"
      },
      "execution_count": null,
      "outputs": []
    },
    {
      "cell_type": "code",
      "source": [
        "!source activate my_env && pip install -r requirements.txt # Installing the list of packages listed under the requirements.txt file"
      ],
      "metadata": {
        "id": "U5egi0wJZus4"
      },
      "execution_count": null,
      "outputs": []
    },
    {
      "cell_type": "code",
      "source": [
        "!source activate my_env && python "name_of_script".py # executing the python script through the conda environment"
      ],
      "metadata": {
        "id": "i12hdG69cfT2"
      },
      "execution_count": null,
      "outputs": []
    }
  ]
}
